{
  "cells": [
    {
      "cell_type": "markdown",
      "metadata": {
        "id": "view-in-github",
        "colab_type": "text"
      },
      "source": [
        "<a href=\"https://colab.research.google.com/github/gikarthikeyan/Automatic-Ticket-Classification/blob/main/DPR_Modelling.ipynb\" target=\"_parent\"><img src=\"https://colab.research.google.com/assets/colab-badge.svg\" alt=\"Open In Colab\"/></a>"
      ]
    },
    {
      "cell_type": "code",
      "execution_count": 20,
      "metadata": {
        "colab": {
          "base_uri": "https://localhost:8080/"
        },
        "id": "1Wcf1fY__NBo",
        "outputId": "267b5057-14c8-4e98-cab5-286ff9aff307"
      },
      "outputs": [
        {
          "output_type": "stream",
          "name": "stdout",
          "text": [
            "Requirement already satisfied: faiss-cpu in /usr/local/lib/python3.10/dist-packages (1.9.0.post1)\n",
            "Requirement already satisfied: numpy<3.0,>=1.25.0 in /usr/local/lib/python3.10/dist-packages (from faiss-cpu) (1.26.4)\n",
            "Requirement already satisfied: packaging in /usr/local/lib/python3.10/dist-packages (from faiss-cpu) (24.2)\n"
          ]
        }
      ],
      "source": [
        "! pip install faiss-cpu"
      ]
    },
    {
      "cell_type": "code",
      "source": [
        "! pip install pdfplumber"
      ],
      "metadata": {
        "colab": {
          "base_uri": "https://localhost:8080/"
        },
        "id": "vZ5UvzyYNRkj",
        "outputId": "f8becab1-2370-4ec3-fab4-11d035cf9df6"
      },
      "execution_count": 21,
      "outputs": [
        {
          "output_type": "stream",
          "name": "stdout",
          "text": [
            "Requirement already satisfied: pdfplumber in /usr/local/lib/python3.10/dist-packages (0.11.4)\n",
            "Requirement already satisfied: pdfminer.six==20231228 in /usr/local/lib/python3.10/dist-packages (from pdfplumber) (20231228)\n",
            "Requirement already satisfied: Pillow>=9.1 in /usr/local/lib/python3.10/dist-packages (from pdfplumber) (11.0.0)\n",
            "Requirement already satisfied: pypdfium2>=4.18.0 in /usr/local/lib/python3.10/dist-packages (from pdfplumber) (4.30.0)\n",
            "Requirement already satisfied: charset-normalizer>=2.0.0 in /usr/local/lib/python3.10/dist-packages (from pdfminer.six==20231228->pdfplumber) (3.4.0)\n",
            "Requirement already satisfied: cryptography>=36.0.0 in /usr/local/lib/python3.10/dist-packages (from pdfminer.six==20231228->pdfplumber) (43.0.3)\n",
            "Requirement already satisfied: cffi>=1.12 in /usr/local/lib/python3.10/dist-packages (from cryptography>=36.0.0->pdfminer.six==20231228->pdfplumber) (1.17.1)\n",
            "Requirement already satisfied: pycparser in /usr/local/lib/python3.10/dist-packages (from cffi>=1.12->cryptography>=36.0.0->pdfminer.six==20231228->pdfplumber) (2.22)\n"
          ]
        }
      ]
    },
    {
      "cell_type": "code",
      "execution_count": 59,
      "metadata": {
        "id": "jdfYu9m_M3cX"
      },
      "outputs": [],
      "source": [
        "import pdfplumber\n",
        "from transformers import (\n",
        "    DPRContextEncoder,\n",
        "    DPRContextEncoderTokenizer,\n",
        "    DPRQuestionEncoder,\n",
        "    DPRQuestionEncoderTokenizer,\n",
        "    T5ForConditionalGeneration,\n",
        "    T5Tokenizer\n",
        ")\n",
        "import os\n",
        "import faiss\n",
        "import pickle\n",
        "import numpy as np"
      ]
    },
    {
      "cell_type": "code",
      "source": [
        "from google.colab import drive\n",
        "drive.mount('/content/drive')"
      ],
      "metadata": {
        "colab": {
          "base_uri": "https://localhost:8080/"
        },
        "id": "RTzmTvHHMFOM",
        "outputId": "d7c9c267-ba7b-4fe0-c85f-94fd49e5d315"
      },
      "execution_count": 60,
      "outputs": [
        {
          "output_type": "stream",
          "name": "stdout",
          "text": [
            "Drive already mounted at /content/drive; to attempt to forcibly remount, call drive.mount(\"/content/drive\", force_remount=True).\n"
          ]
        }
      ]
    },
    {
      "cell_type": "code",
      "source": [
        "!ls /content/drive/My\\ Drive/NLP"
      ],
      "metadata": {
        "colab": {
          "base_uri": "https://localhost:8080/"
        },
        "id": "E_niCabsMNDJ",
        "outputId": "15de4d8a-4f41-42ca-e466-49edc08ad254"
      },
      "execution_count": 61,
      "outputs": [
        {
          "output_type": "stream",
          "name": "stdout",
          "text": [
            "CustomNER  Road.docx  Road.pdf\tTrain\n"
          ]
        }
      ]
    },
    {
      "cell_type": "code",
      "source": [
        "# Step 1: Read PDF with pdfplumber\n",
        "def read_pdf(pdf_path):\n",
        "    document = \"\"\n",
        "    with pdfplumber.open(pdf_path) as pdf:\n",
        "        for page in pdf.pages:\n",
        "            text = page.extract_text()\n",
        "            if text:\n",
        "                document += text + \" \"\n",
        "    return document"
      ],
      "metadata": {
        "id": "--x29-isMYku"
      },
      "execution_count": 83,
      "outputs": []
    },
    {
      "cell_type": "code",
      "source": [
        "# Step 2: Chunk text\n",
        "def chunk_text(text, chunk_size=300, overlap=50):\n",
        "    words = text.split()\n",
        "    chunks = []\n",
        "    for i in range(0, len(words), chunk_size - overlap):\n",
        "        chunk = \" \".join(words[i:i + chunk_size])\n",
        "        chunks.append(chunk)\n",
        "    return chunks"
      ],
      "metadata": {
        "id": "ixdw24AZPsaK"
      },
      "execution_count": 84,
      "outputs": []
    },
    {
      "cell_type": "code",
      "source": [
        "# Step 3: Generate embeddings for chunks using DPR\n",
        "def create_embeddings(chunks, context_encoder, context_tokenizer, max_length=512):\n",
        "    embeddings = []\n",
        "    for chunk in chunks:\n",
        "        inputs = context_tokenizer(chunk, return_tensors=\"pt\", truncation=True, max_length=max_length)\n",
        "        embedding = context_encoder(**inputs).pooler_output.detach().numpy()\n",
        "        embeddings.append(embedding)\n",
        "    return np.vstack(embeddings)"
      ],
      "metadata": {
        "id": "wwAWkGWwPvfn"
      },
      "execution_count": 85,
      "outputs": []
    },
    {
      "cell_type": "code",
      "source": [
        "# Step 4: Store embeddings in FAISS\n",
        "def build_faiss_index(embeddings):\n",
        "    dimension = embeddings.shape[1]\n",
        "    index = faiss.IndexFlatIP(dimension)\n",
        "    index.add(embeddings)\n",
        "    return index"
      ],
      "metadata": {
        "id": "vXrHyhF6PyZf"
      },
      "execution_count": 86,
      "outputs": []
    },
    {
      "cell_type": "code",
      "source": [
        "# Step 5: Query FAISS and retrieve top-k chunks\n",
        "def query_faiss(index, query, question_encoder, question_tokenizer, chunks, top_k=5, max_length=512):\n",
        "    inputs = question_tokenizer(query, return_tensors=\"pt\", truncation=True, max_length=max_length)\n",
        "    query_embedding = question_encoder(**inputs).pooler_output.detach().numpy()\n",
        "    distances, indices = index.search(query_embedding, top_k)\n",
        "    return [chunks[i] for i in indices[0]]\n"
      ],
      "metadata": {
        "id": "r07aL4TFpGO9"
      },
      "execution_count": 87,
      "outputs": []
    },
    {
      "cell_type": "code",
      "source": [
        "# Step 6: Use T5 to extract answers\n",
        "def extract_answer(query, retrieved_chunks, t5_model, t5_tokenizer, max_length=512):\n",
        "    context = \" \".join(retrieved_chunks)\n",
        "    input_text = f\"question: {query} context: {context}\"\n",
        "    inputs = t5_tokenizer(input_text, return_tensors=\"pt\", truncation=True, max_length=max_length)\n",
        "    outputs = t5_model.generate(**inputs)\n",
        "    return t5_tokenizer.decode(outputs[0], skip_special_tokens=True)"
      ],
      "metadata": {
        "id": "cxDGww0gpH-T"
      },
      "execution_count": 88,
      "outputs": []
    },
    {
      "cell_type": "code",
      "source": [
        "# Step 7: Initialize pipeline\n",
        "def initialize_pipeline(pdf_path=None, save_dir=\"./faiss_data\"):\n",
        "    # Load Models and Tokenizers\n",
        "    context_encoder = DPRContextEncoder.from_pretrained(\"facebook/dpr-ctx_encoder-single-nq-base\")\n",
        "    context_tokenizer = DPRContextEncoderTokenizer.from_pretrained(\"facebook/dpr-ctx_encoder-single-nq-base\")\n",
        "    question_encoder = DPRQuestionEncoder.from_pretrained(\"facebook/dpr-question_encoder-single-nq-base\")\n",
        "    question_tokenizer = DPRQuestionEncoderTokenizer.from_pretrained(\"facebook/dpr-question_encoder-single-nq-base\")\n",
        "    t5_model = T5ForConditionalGeneration.from_pretrained(\"t5-base\")\n",
        "    t5_tokenizer = T5Tokenizer.from_pretrained(\"t5-base\")\n",
        "\n",
        "    # Check if precomputed data exists\n",
        "    if os.path.exists(save_dir):\n",
        "        print(\"Loading precomputed data...\")\n",
        "        index, embeddings, chunks = load_faiss_index(save_dir)\n",
        "    elif pdf_path is not None:\n",
        "        print(\"Processing PDF and creating embeddings...\")\n",
        "        # Read and Process PDF\n",
        "        document = read_pdf(pdf_path)\n",
        "        chunks = chunk_text(document)\n",
        "\n",
        "        # Create Embeddings and Build FAISS Index\n",
        "        embeddings = create_embeddings(chunks, context_encoder, context_tokenizer, max_length=512)\n",
        "        index = build_faiss_index(embeddings)\n",
        "\n",
        "        # Save the FAISS index and chunks\n",
        "        save_faiss_index(index, embeddings, chunks, save_dir)\n",
        "    else:\n",
        "        raise ValueError(\"Either 'pdf_path' must be provided or precomputed data must exist in 'save_dir'.\")\n",
        "\n",
        "    return {\n",
        "        \"context_encoder\": context_encoder,\n",
        "        \"context_tokenizer\": context_tokenizer,\n",
        "        \"question_encoder\": question_encoder,\n",
        "        \"question_tokenizer\": question_tokenizer,\n",
        "        \"t5_model\": t5_model,\n",
        "        \"t5_tokenizer\": t5_tokenizer,\n",
        "        \"index\": index,\n",
        "        \"chunks\": chunks,\n",
        "    }\n"
      ],
      "metadata": {
        "id": "6fJbVsIkpIBV"
      },
      "execution_count": 89,
      "outputs": []
    },
    {
      "cell_type": "code",
      "source": [
        "# Step 8: Save FAISS index, embeddings, and chunks\n",
        "def save_faiss_index(index, embeddings, chunks, save_dir):\n",
        "    os.makedirs(save_dir, exist_ok=True)  # Ensure the folder exists\n",
        "    # Save the FAISS index\n",
        "    faiss.write_index(index, os.path.join(save_dir, \"faiss_index\"))\n",
        "\n",
        "    # Save embeddings\n",
        "    np.save(os.path.join(save_dir, \"embeddings.npy\"), embeddings)\n",
        "\n",
        "    # Save chunks\n",
        "    with open(os.path.join(save_dir, \"chunks.pkl\"), \"wb\") as f:\n",
        "        pickle.dump(chunks, f)\n",
        "\n",
        "    print(f\"Data saved successfully in {save_dir}\")"
      ],
      "metadata": {
        "id": "7rpmognupIEB"
      },
      "execution_count": 90,
      "outputs": []
    },
    {
      "cell_type": "code",
      "source": [
        "# Step 9: Load FAISS index, embeddings, and chunks\n",
        "def load_faiss_index(save_dir):\n",
        "    # Load FAISS index\n",
        "    index = faiss.read_index(os.path.join(save_dir, \"faiss_index\"))\n",
        "\n",
        "    # Load embeddings\n",
        "    embeddings = np.load(os.path.join(save_dir, \"embeddings.npy\"))\n",
        "\n",
        "    # Load chunks\n",
        "    with open(os.path.join(save_dir, \"chunks.pkl\"), \"rb\") as f:\n",
        "        chunks = pickle.load(f)\n",
        "\n",
        "    return index, embeddings, chunks"
      ],
      "metadata": {
        "id": "twQx0KZUpIGx"
      },
      "execution_count": 91,
      "outputs": []
    },
    {
      "cell_type": "code",
      "source": [
        "# Step 10: Query pipeline\n",
        "def query_pipeline(query, pipeline_data, top_k=5, max_length=512):\n",
        "    # Unpack preloaded data\n",
        "    question_encoder = pipeline_data[\"question_encoder\"]\n",
        "    question_tokenizer = pipeline_data[\"question_tokenizer\"]\n",
        "    t5_model = pipeline_data[\"t5_model\"]\n",
        "    t5_tokenizer = pipeline_data[\"t5_tokenizer\"]\n",
        "    index = pipeline_data[\"index\"]\n",
        "    chunks = pipeline_data[\"chunks\"]\n",
        "\n",
        "    # Retrieve Top-K Chunks\n",
        "    retrieved_chunks = query_faiss(\n",
        "        index,\n",
        "        query,\n",
        "        question_encoder,\n",
        "        question_tokenizer,\n",
        "        chunks,\n",
        "        top_k=top_k,\n",
        "        max_length=max_length,\n",
        "    )\n",
        "\n",
        "    # Generate Answer\n",
        "    answer = extract_answer(query, retrieved_chunks, t5_model, t5_tokenizer, max_length=max_length)\n",
        "    return answer,retrieved_chunks"
      ],
      "metadata": {
        "id": "AGp0vzjZpV1P"
      },
      "execution_count": 100,
      "outputs": []
    },
    {
      "cell_type": "code",
      "source": [
        "# Step 11: Example usage\n",
        "save_dir = \"/content/drive/My Drive/NLP/Embeddings/\"  # Folder in Google Drive\n",
        "pdf_path = \"/content/drive/My Drive/NLP/Road.pdf\"  # Path to your PDF\n",
        "pipeline_data = initialize_pipeline(pdf_path=pdf_path, save_dir=save_dir)\n"
      ],
      "metadata": {
        "colab": {
          "base_uri": "https://localhost:8080/"
        },
        "id": "414l8JxhpV5e",
        "outputId": "e9e518a8-6aa5-42b1-c0a5-089c85721ba0"
      },
      "execution_count": 97,
      "outputs": [
        {
          "output_type": "stream",
          "name": "stderr",
          "text": [
            "Some weights of the model checkpoint at facebook/dpr-ctx_encoder-single-nq-base were not used when initializing DPRContextEncoder: ['ctx_encoder.bert_model.pooler.dense.bias', 'ctx_encoder.bert_model.pooler.dense.weight']\n",
            "- This IS expected if you are initializing DPRContextEncoder from the checkpoint of a model trained on another task or with another architecture (e.g. initializing a BertForSequenceClassification model from a BertForPreTraining model).\n",
            "- This IS NOT expected if you are initializing DPRContextEncoder from the checkpoint of a model that you expect to be exactly identical (initializing a BertForSequenceClassification model from a BertForSequenceClassification model).\n",
            "The tokenizer class you load from this checkpoint is not the same type as the class this function is called from. It may result in unexpected tokenization. \n",
            "The tokenizer class you load from this checkpoint is 'DPRQuestionEncoderTokenizer'. \n",
            "The class this function is called from is 'DPRContextEncoderTokenizer'.\n",
            "Some weights of the model checkpoint at facebook/dpr-question_encoder-single-nq-base were not used when initializing DPRQuestionEncoder: ['question_encoder.bert_model.pooler.dense.bias', 'question_encoder.bert_model.pooler.dense.weight']\n",
            "- This IS expected if you are initializing DPRQuestionEncoder from the checkpoint of a model trained on another task or with another architecture (e.g. initializing a BertForSequenceClassification model from a BertForPreTraining model).\n",
            "- This IS NOT expected if you are initializing DPRQuestionEncoder from the checkpoint of a model that you expect to be exactly identical (initializing a BertForSequenceClassification model from a BertForSequenceClassification model).\n"
          ]
        },
        {
          "output_type": "stream",
          "name": "stdout",
          "text": [
            "Loading precomputed data...\n"
          ]
        }
      ]
    },
    {
      "cell_type": "code",
      "source": [
        "# Query the pipeline (reuse preloaded data for every question)\n",
        "query_1 = \"what are the 10 countries have successed in reducing roadtraffic death?\"\n",
        "answer_1,retrieved_chunks = query_pipeline(query_1, pipeline_data)\n",
        "print (\"Question 1\", query_1)\n",
        "print(\"Answer:\", answer_1)\n",
        "print (\"retrieved_chunks\", retrieved_chunks)\n",
        "\n",
        "# query_2 = \"How can I apply for a refund?\"\n",
        "# answer_2 = query_pipeline(query_2, pipeline_data)\n",
        "# print (\"Question 2\", query_2)\n",
        "# print(\"Answer:\", answer_2)"
      ],
      "metadata": {
        "colab": {
          "base_uri": "https://localhost:8080/"
        },
        "id": "AFYzFVtsRC6M",
        "outputId": "f6ef2047-e701-4e1b-f008-45bf340b67eb"
      },
      "execution_count": 102,
      "outputs": [
        {
          "output_type": "stream",
          "name": "stderr",
          "text": [
            "/usr/local/lib/python3.10/dist-packages/transformers/generation/utils.py:1375: UserWarning: Using the model-agnostic default `max_length` (=20) to control the generation length. We recommend setting `max_new_tokens` to control the maximum length of the generation.\n",
            "  warnings.warn(\n"
          ]
        },
        {
          "output_type": "stream",
          "name": "stdout",
          "text": [
            "Question 1 what are the 10 countries have successed in reducing roadtraffic death?\n",
            "Answer: 20\n",
            "retrieved_chunks [\"action and UHC, engaging relevant stakeholders and empowering local communities to strengthen Primary Health care, considering it the first line in reducing the consequences of road traffic injuries. Additionally, concerted efforts are needed to address the economic, social, and environmental determinants of health that impact road safety. This can be achieved by adopting a Health in All Policies approach and reducing risk factors. To achieve the vision of zero road traffic injuries, it is crucial to involve a wide range of stakeholders to reach Health for All,ensuringthatno one is left behind. It is equally importanttoaddressandmanageconflictsofinterest,promotetransparency,and implementparticipatorygovernancestrategies[74] 10.RoadSafetyandHealthinPost-PandemicRecovery In 2020, road deaths dropped by 20.2% on average across 19 countries comparedto2017-19duetoReduced traffic volume in many areas due to lockdowns and restrictions, according to the International Road Traffic and Accident Database. The biggest reductions were seen in older people (75+ years) and young people (0-17 years), with both groups experiencing a 24% decrease, likely due to pandemic travel restrictions, as some regions reported fewer road accidents due to fewer vehicles on the road. Among 20 countries, road deaths by transport mode fell by 21.3% in 2020. Public transport deaths decreased by 68%, with only 47 deaths in2020, down fromanaverageof148in2017-19.Insomecountries,therewasaslightincreaseinroadaccidentsdueto increasedconcernsaboutspeedingandrecklessdrivingonclearerroads.[75] After the Covid-19 pandemic's impact in 2020 and 2021, which saw reduced mobility and fewer road deaths, 2022 returned to normal. There weren't any notablemobilityrestrictionsinIRTADcountriesthatyear.Forthe35 IRTAD countries with confirmed data, road deaths rose by 3.2% in 2022 comparedtotheaveragefrom2017to 2019duetoapotentialincreaseinroadaccidentsastrafficvolumereturnstonormalorhigherlevels. WheretheWorldStandsonRoadSafety: ● Global Goals: The WHO's Global Plan for the Decade of Action for Road Safety 2021-2030 outlines targetstohalveroadtrafficdeathsandinjuriesby2030. ● Challenges Remain: Many countries were off-track tomeetpreviousroadsafetytargetsevenbeforethe pandemic.Thepandemicexacerbatedsomechallengeswhilehighlightingareasforinnovation. In the post-pandemic era, several lessons regarding road safety have come totheforefront.Oneoftheprimary takeaways is the importance of adaptability. Swiftly modifying road safety measures in response to changing conditions isbeneficialandvitalforensuringcontinuedsafety.Additionally,aholisticapproachtoroadsafetyhas been emphasised. Focusing solely on infrastructure\", 'in1997,itsetsthelong-termgoalofhavingzerofatalitiesorseriousinjuriesfromroadtraffic “accidents.” Although the goal is not considered realistic, proponents believe there is no such thing as a traffic “accident” and every crash is avoidable.[57] By taking a public health approach to collisions, road safety is redefined as collisions are viewed as a preventable health threat. Vision Zero emphasises the importance of infrastructuraldevelopmentandtrafficenforcementinattainingasaferroadsystem.[58] 7.3CurrentSituation As of 2023, road traffic deathshavefallenslightlyto1.19millionannually.Nonetheless,theyremainapersistent crisis. Among the member states of the UN, 108 countries have reported a drop in road traffic-related deaths between 2010 and2021,and10countrieshavesucceededinreducingroadtrafficdeathsbyover50%:Belarus, Brunei Darussalam, Denmark, Japan, Lithuania,Norway,RussianFederation,TrinidadandTobago,UnitedArab EmiratesandVenezuela,with35morecountriesmakingnotableprogress,reducingdeathsby30-50%.[59] While the number of countries with legislation meeting WHO best practices for at least one of the five key risk factors has increased to 140, with23countrieshavingmodifiedtheirlawstoalignthemselves,onlysixcountries have legislationonallfivekeyriskfactors.Furthermore,only35countrieshavelegislationthatmandatesthefive coreareasofvehiclesafetyequipment,with79countrieshavingnolegislationonvehiclesafety.[60] ● SpeedManagement The speed at which a vehicle travels directly influences the crash risk and increases the severity of sustained injuries and the likelihood of death resulting from collision. As a result, speed management remains an important focus point of road safety systems and legislation. Of the 170 countries that participated in the WHO road safety survey, 163 countries reporthavinglawsonspeeding.Still,only57 meet WHO best practice of a national speed limit, an urban speed limit of 50 km/h or lower, and the abilityoflocalauthoritiestoadaptspeedlimitstolocalcontexts.[61] Results can be observed even on a smaller scale, such as in Bogotá, Colombia. The city has significantly reduced traffic fatalities and injuries in recentyears.SinceadoptingaVisionZeroapproach at the administrative level, it has implemented several measures to reduce speed levels at specific arterial roads. This resulted in a 21% decrease in trafficfatalitiesin2019comparedtotheaveragefrom 2015-2018.[62] ● UrbanPlanning As the number of people living in an urban area increases, urban planning becomes increasingly important in reducing the incidence of RTIs and preventing fatalities. AccordingtotheWorldResources Institute,themostessentialplanningprinciplesinclude: - Connectedandcompacturbandesign - SaferVehicleSpeedlevels - Managementofarterialcorridors - Multimodaltransportation,includingwalking,bicyclingandmasstransit[63] Road safety legislation and systemic approaches are pivotal in addressing global road traffic injuries.Universal adoption', \"of biodiversity and disruption of ecosystems. [14] The Amazon rainforest, renowned for its biodiversity, is a poignant example. Research establishes a direct correlation between road development and escalating deforestation rates in the Amazon basin.[15] In addition, road traffic emerges as a significantcontributortonoisepollution,impactingbothwildlifeandhuman health. The elevated noise levels result in natural habitats, affecting the communication and behaviour of animals. For humans, chronic exposure to traffic noise has been linked to stress, sleep disturbances, and adverse cardiovascular effects. [16] The World Health Organization (WHO, 2011) conducted a study in urban areas, revealingacompellingassociationbetweenlong-termexposuretoroadtrafficnoiseandanincreasedrisk ofheartdisease.[17] Arguably, the most recognised consequence of road traffic is air pollution. Vehicle emissions release a toxic blend of pollutants, including particulate matter, nitrogen oxides,andvolatileorganiccompounds,posingsevere threats to air quality and respiratory health.[18] Cities like Delhi, India, stand as stark examples of the repercussions. A report by the Indian Ministry of Environment, Forest, and Climate Change (MoEFCC, 2018) underscores theroleofvehicularemissionsinthehazardouslevelsofparticulatematter,contributingtothecity's alarmingairquality.[19] Recognising the global impactofroadtrafficonenvironmentalhealth,theWorldHealthOrganization(WHO)and the United Nations (UN) have initiated comprehensive efforts. The WHO, in its Global Status Report on Road Safety (2018), underscores the need for sustainable and safe transportation systems to mitigate the environmental and health risks associated with road traffic.[20] The United Nations Sustainable Development Goals (SDGs)alsohighlighttheimportanceofsustainableurbandevelopmentandresponsibleconsumptionand production (UN, 2015). [21] These goals emphasise the necessity of adopting eco-friendly transportation alternativesandreducingtheenvironmentalfootprintofroadtraffic. 3.InequitiesinRoadSafety Road safety inequalities refer to the unequal distribution of road traffic injuries and fatalities among different population groups, regions, or socioeconomic backgrounds. These inequities can arise due to various factors, includinginfrastructure,vehiclesafety,enforcementoftrafficlaws,education,andsocioeconomicconditions.[22] Itisevidentinthefollowingkeypoints: ● Geographic inequities: it was highly apparent that there is a vast difference between the rate of road accidents in low-and middle-income countries. Research-based studies revealed that each year, between 20 and 50millionpeoplehaveamobilitydisability,and1.2millionpeopledieasaresultofroad trafficcrashes,and90%ofthesedeathshappeninlow-andmiddle-incomecountries.[23] ● Age: Road safety inequities across different age groups and genders can be observed. Young people, particularly adolescents and\", 'As the number of people living in an urban area increases, urban planning becomes increasingly important in reducing the incidence of RTIs and preventing fatalities. AccordingtotheWorldResources Institute,themostessentialplanningprinciplesinclude: - Connectedandcompacturbandesign - SaferVehicleSpeedlevels - Managementofarterialcorridors - Multimodaltransportation,includingwalking,bicyclingandmasstransit[63] Road safety legislation and systemic approaches are pivotal in addressing global road traffic injuries.Universal adoption of comprehensive safety laws, collaborative efforts, and ongoing research are imperative to eliminate road traffic fatalities. A unified global commitment is essential in achieving the ultimate goal of safer roads and protecting the well-being of all roadusers.Meaningfulyouthengagementisvitaltocreatingeffectiveroadsafety policies and regulations. Engaging young people in decision-making processes empowers them to contribute theirperspectives,experiences,andinnovativeideastoaddressroadsafetychallenges.[64] 8.GlobaleffortsonRoadSafetyandHealth Global efforts have seen increased collaborations in road safety and health. To address this challenge, the UN General Assembly passed Resolution A/RES/74/299, \"Improving Global Road Safety,\" in September 2020, establishing the DecadeofActionforRoadSafety2021-2030,withtheambitiousgoalofavertingatleast50%of road traffic deaths and injuries by 2030. The Stockholm Declaration, which describes an integrated and comprehensive approach to road safety based on the Safe System principles, was approved at the 3rd Global MinisterialConferenceonRoadSafetyinFebruary2020andagreeduponbytheresolution. The UN emphasises how critical it is that Member States and the global community work closely together to meetthechallenginggoalsforroadsafetyincludedinthe2030AgendaforSustainableDevelopment. The WorldHealthOrganisation(WHO)helpsnationsimprovetheirroadsafetylaws,regulations,andprocedures while offering technical advice, lobbying, and coordination for issues related to health and safety on the roads. The World Health Organisation (WHO) also publishes the Global Status Report on Road Safety, which tracks nations\\'advancementsandobstaclesinexecutingevidence-basedtreatmentsandaccomplishingglobaltargets. The UN Road Safety Fund was created in 2018 to bring resources to the table and spur roadsafetyinitiatives. The Fund provides funding for initiativesthattargettheprincipalriskfactorsandgapsinthesystemsinlow-and middle-income nations, emphasising bolstering law enforcement and emergency response, establishing partnershipsandcapacities,andstrengtheninglegislativeframeworks.[65] In order to execute road safety resolutions, UN agencies and partners can coordinate globally thanks to the establishment of the UN Road Safety Collaboration (UNRSC) in 2004. It comprises representatives from UN agencies, NGOs, and Member States, and it focuses on developing guidelines,', 'IFMSA Policy Document Road Safety and Health Proposed by the IFMSA Team of Officials Adopted at the 73rd IFMSA General Assembly March Meeting 2024 Policy Commission ● SalmanKhan(LiaisonOfficerforPublicHealthIssues)-lph@ifmsa.org ● JoséDiogoSoares(ANEMPortugal) ● KrystaCutajar(MMSAMalta) Policy Small Working Group ● SalmanKhan(LiaisonOfficerforPublicHealthIssues)-lph@ifmsa.org -SWGCo-coordinator ● JoséDiogoSoares(SCOPHExternalAffairsAssistant,ANEMPortugal)-SWGCo-coordinator ● MohamedKaremAbdullatif(IFMSAEgypt)- SWGCo-coordinator ● HossamAbdelmohsenZaki(IFMSAEgypt) ● FarahWaseem(IFMSA-Pakistan) ● EsraaAmrMohmedHany(IFMSAEgypt) ● SimonaSzabóová(IFMSA-TheNetherlands) ● AdrielCamilleri(MMSAMalta) ● AaradhanaVaghela(MSAIIndia) Acknowledgementfortheexternalexpertreviewers ● YouthForRoadSafety(YOURS) Policy Statement Introduction In an era where an intricate web of roads facilitates global connectivity, the impact of road traffic on human health has become an urgent and pervasive concern. However, the impact of road traffic extends beyond the immediate toll on human lives, manifesting as high economic and healthcare burdens. In this complex landscape, not only does the vision oftheUnitedNationsDecadeofActionforRoadSafetyandtheSustainable Development Agenda matter, but the role of youth and medical students also emerges as pivotal. The intricate web of challenges posed by road traffic emphasises theimperativecollaborationbetweenyouth-ledactionsand stakeholderstoshapeasaferandhealthierfutureforall. IFMSA Position The IFMSA recognises the alarming number of 1.19 million lives lost annually due to road traffic collisions, emphasising the urgent need for preventive measures through education and advocacy. The inequities in road safety outcomes among various population groups are acknowledged, prompting IFMSA to advocate for equitable access to safe infrastructure, robust enforcement of traffic laws, socioeconomic interventions and sustainable transportation alternatives. The organisation underscores the pivotal role of youth and medical students in effecting change, emphasising the importance of engagement, capacity-building, and community-driven initiatives. By encouraging collaborative global action, research-driven policies, and a commitment to data collection, IFMSA aims to contribute to a collective effort to create a safer and healthier worldforall. Call to Action Therefore,theIFMSAcallson: Governmentsto: ● Develop a comprehensive policy for the national road safety program and establish road safety lead agencies with well-described targets, objectives and implementation strategies involving inter-sectoral coordination. ● Implement legislation surroundingbloodalcoholconcentrationtesting,randomdrugtesting,seatbeltand child restraints, motor']\n"
          ]
        }
      ]
    },
    {
      "cell_type": "code",
      "source": [],
      "metadata": {
        "id": "uOZww3F3suiV"
      },
      "execution_count": null,
      "outputs": []
    }
  ],
  "metadata": {
    "colab": {
      "provenance": [],
      "authorship_tag": "ABX9TyNtsQXVuAf0tYnqUmJoHTKq",
      "include_colab_link": true
    },
    "kernelspec": {
      "display_name": "Python 3",
      "name": "python3"
    },
    "language_info": {
      "name": "python"
    }
  },
  "nbformat": 4,
  "nbformat_minor": 0
}